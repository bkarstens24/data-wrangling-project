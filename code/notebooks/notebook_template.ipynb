{
 "cells": [
  {
   "cell_type": "markdown",
   "id": "97f19d43-6ae9-435b-ab43-0ec291f3e831",
   "metadata": {},
   "source": [
    "# Project Name \n",
    "**Author Name:** Brian Karstens\n",
    "**Last Modified:** 11/17/2024 \n",
    "\n",
    "**Description:** Short description of project"
   ]
  },
  {
   "cell_type": "markdown",
   "id": "67b4d680-a4be-461e-a518-0fe76a1af1a8",
   "metadata": {},
   "source": [
    "<br>"
   ]
  },
  {
   "cell_type": "markdown",
   "id": "47468d81-bd46-4c7c-b0cf-4bc77eaf1263",
   "metadata": {},
   "source": [
    "Import libraries"
   ]
  },
  {
   "cell_type": "code",
   "execution_count": 4,
   "id": "c6a883c1-3331-4886-aff0-8cb90862f76a",
   "metadata": {},
   "outputs": [],
   "source": [
    "# Import necessary libraries\n",
    "import pandas as pd "
   ]
  },
  {
   "cell_type": "markdown",
   "id": "f8b59f29-6106-428d-a270-3b441559223c",
   "metadata": {},
   "source": [
    "Load Data"
   ]
  },
  {
   "cell_type": "code",
   "execution_count": 6,
   "id": "0143df87-6608-4e42-b385-10560a645424",
   "metadata": {},
   "outputs": [],
   "source": [
    "# Code to read csv file"
   ]
  }
 ],
 "metadata": {
  "kernelspec": {
   "display_name": "Python 3 (ipykernel)",
   "language": "python",
   "name": "python3"
  },
  "language_info": {
   "codemirror_mode": {
    "name": "ipython",
    "version": 3
   },
   "file_extension": ".py",
   "mimetype": "text/x-python",
   "name": "python",
   "nbconvert_exporter": "python",
   "pygments_lexer": "ipython3",
   "version": "3.12.4"
  }
 },
 "nbformat": 4,
 "nbformat_minor": 5
}
